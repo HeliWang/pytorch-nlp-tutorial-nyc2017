{
 "cells": [
  {
   "cell_type": "markdown",
   "metadata": {},
   "source": [
    "# Chinese document Classification"
   ]
  },
  {
   "cell_type": "code",
   "execution_count": 1,
   "metadata": {
    "collapsed": true
   },
   "outputs": [],
   "source": [
    "%matplotlib inline\n",
    "import matplotlib.pyplot as plt\n",
    "import seaborn as sns\n",
    "import pandas as pd\n",
    "import numpy as np\n",
    "plt.style.use('fivethirtyeight')\n",
    "plt.rcParams['figure.figsize'] = (14, 6)"
   ]
  },
  {
   "cell_type": "markdown",
   "metadata": {},
   "source": [
    "# Overview of Task"
   ]
  },
  {
   "cell_type": "markdown",
   "metadata": {},
   "source": [
    "## 1. Load data"
   ]
  },
  {
   "cell_type": "code",
   "execution_count": 2,
   "metadata": {
    "collapsed": true
   },
   "outputs": [],
   "source": [
    "data_path = 'data/zh_news/news.csv'"
   ]
  },
  {
   "cell_type": "code",
   "execution_count": 3,
   "metadata": {
    "collapsed": false
   },
   "outputs": [
    {
     "data": {
      "text/html": [
       "<div>\n",
       "<style>\n",
       "    .dataframe thead tr:only-child th {\n",
       "        text-align: right;\n",
       "    }\n",
       "\n",
       "    .dataframe thead th {\n",
       "        text-align: left;\n",
       "    }\n",
       "\n",
       "    .dataframe tbody tr th {\n",
       "        vertical-align: top;\n",
       "    }\n",
       "</style>\n",
       "<table border=\"1\" class=\"dataframe\">\n",
       "  <thead>\n",
       "    <tr style=\"text-align: right;\">\n",
       "      <th></th>\n",
       "      <th>label</th>\n",
       "      <th>title</th>\n",
       "      <th>content</th>\n",
       "    </tr>\n",
       "  </thead>\n",
       "  <tbody>\n",
       "    <tr>\n",
       "      <th>0</th>\n",
       "      <td>1</td>\n",
       "      <td>ti3 ca1o shi4 jie4 be1i : che2ng fe1i na2 pi2...</td>\n",
       "      <td>su4 du4 : ( shuo1 mi2ng : dia3n ji1 zi4 do4ng ...</td>\n",
       "    </tr>\n",
       "    <tr>\n",
       "      <th>1</th>\n",
       "      <td>4</td>\n",
       "      <td>da3o ha2ng</td>\n",
       "      <td>du2 jia1 ti2 go1ng me3i ri4 ba4o jia4 \\n  re4 ...</td>\n",
       "    </tr>\n",
       "    <tr>\n",
       "      <th>2</th>\n",
       "      <td>1</td>\n",
       "      <td>wa3ng yi4 ti3 yu4</td>\n",
       "      <td>gu3n do4ng tu2 ji2 \\n  be3n tu2 ji2 go4ng 7 zh...</td>\n",
       "    </tr>\n",
       "    <tr>\n",
       "      <th>3</th>\n",
       "      <td>3</td>\n",
       "      <td>zi1 lia4o tu2 pia4n : dia4n shi4 ju4 &lt; fu2 gu...</td>\n",
       "      <td>wa3ng ye4 \\n  bu4 zhi1 chi2 Flash\\n  xi1n la4n...</td>\n",
       "    </tr>\n",
       "    <tr>\n",
       "      <th>4</th>\n",
       "      <td>2</td>\n",
       "      <td>niu3 yua2n dui4 me3i yua2n : ku4 lu2n jia3ng ...</td>\n",
       "      <td>xi1n xi1 la2n ca2i cha2ng ku4 lu2n fa1 bia3o j...</td>\n",
       "    </tr>\n",
       "  </tbody>\n",
       "</table>\n",
       "</div>"
      ],
      "text/plain": [
       "   label                                              title  \\\n",
       "0      1   ti3 ca1o shi4 jie4 be1i : che2ng fe1i na2 pi2...   \n",
       "1      4                                        da3o ha2ng    \n",
       "2      1                                 wa3ng yi4 ti3 yu4    \n",
       "3      3   zi1 lia4o tu2 pia4n : dia4n shi4 ju4 < fu2 gu...   \n",
       "4      2   niu3 yua2n dui4 me3i yua2n : ku4 lu2n jia3ng ...   \n",
       "\n",
       "                                             content  \n",
       "0  su4 du4 : ( shuo1 mi2ng : dia3n ji1 zi4 do4ng ...  \n",
       "1  du2 jia1 ti2 go1ng me3i ri4 ba4o jia4 \\n  re4 ...  \n",
       "2  gu3n do4ng tu2 ji2 \\n  be3n tu2 ji2 go4ng 7 zh...  \n",
       "3  wa3ng ye4 \\n  bu4 zhi1 chi2 Flash\\n  xi1n la4n...  \n",
       "4  xi1n xi1 la2n ca2i cha2ng ku4 lu2n fa1 bia3o j...  "
      ]
     },
     "execution_count": 3,
     "metadata": {},
     "output_type": "execute_result"
    }
   ],
   "source": [
    "data = pd.read_csv(data_path, names=['label', 'title', 'content'])\n",
    "data.head()"
   ]
  },
  {
   "cell_type": "code",
   "execution_count": 4,
   "metadata": {
    "collapsed": false
   },
   "outputs": [
    {
     "data": {
      "text/plain": [
       "<matplotlib.axes._subplots.AxesSubplot at 0x110a7a1d0>"
      ]
     },
     "execution_count": 4,
     "metadata": {},
     "output_type": "execute_result"
    },
    {
     "data": {
      "image/png": "[encoded data removed]",
      "text/plain": [
       "<matplotlib.figure.Figure at 0x106d9ec50>"
      ]
     },
     "metadata": {},
     "output_type": "display_data"
    }
   ],
   "source": [
    "sns.countplot(data['label'])"
   ]
  },
  {
   "cell_type": "markdown",
   "metadata": {},
   "source": [
    "## 2. Build vocab"
   ]
  },
  {
   "cell_type": "code",
   "execution_count": 5,
   "metadata": {
    "collapsed": true
   },
   "outputs": [],
   "source": [
    "chars = 'abcdefghijklmnopqrstuvwxyz-,;!?:\\'\\\\|_@#$%ˆ&*˜‘+-=<>()[]{} '\n",
    "char_to_index = {char:i for i, char in enumerate(chars)}\n",
    "index_to_char = {i: char for i, char in enumerate(chars)}"
   ]
  },
  {
   "cell_type": "markdown",
   "metadata": {},
   "source": [
    "## 3. Find max sequence length"
   ]
  },
  {
   "cell_type": "code",
   "execution_count": 6,
   "metadata": {
    "collapsed": false
   },
   "outputs": [
    {
     "data": {
      "text/plain": [
       "207"
      ]
     },
     "execution_count": 6,
     "metadata": {},
     "output_type": "execute_result"
    }
   ],
   "source": [
    "maxlen = int(max(data['title'].apply(len)))\n",
    "maxlen"
   ]
  },
  {
   "cell_type": "markdown",
   "metadata": {},
   "source": [
    "## 4. Convert sequences to Tensors"
   ]
  },
  {
   "cell_type": "code",
   "execution_count": 7,
   "metadata": {
    "collapsed": true
   },
   "outputs": [],
   "source": [
    "def encode_input(title, maxlen=207):\n",
    "    title = title.lower().strip()\n",
    "    encoding = np.zeros((len(chars), maxlen), dtype=np.int64)\n",
    "    for i, char in enumerate(title[:maxlen]):\n",
    "        index = char_to_index.get(char, 'unknown')\n",
    "        if index is not 'unknown':\n",
    "            encoding[index,i] = 1\n",
    "    return encoding"
   ]
  },
  {
   "cell_type": "code",
   "execution_count": 8,
   "metadata": {
    "collapsed": false
   },
   "outputs": [],
   "source": [
    "import torch\n",
    "import torch.nn as nn\n",
    "from torch.autograd import Variable\n",
    "import torch.nn.functional as F"
   ]
  },
  {
   "cell_type": "code",
   "execution_count": 9,
   "metadata": {
    "collapsed": false
   },
   "outputs": [
    {
     "data": {
      "text/plain": [
       "array([[0, 0, 0, ..., 0, 0, 0],\n",
       "       [1, 0, 0, ..., 0, 0, 0],\n",
       "       [0, 0, 0, ..., 0, 0, 0],\n",
       "       ..., \n",
       "       [0, 0, 0, ..., 0, 0, 0],\n",
       "       [0, 0, 0, ..., 0, 0, 0],\n",
       "       [0, 0, 0, ..., 0, 0, 0]])"
      ]
     },
     "execution_count": 9,
     "metadata": {},
     "output_type": "execute_result"
    }
   ],
   "source": [
    "encode_input('Brian')"
   ]
  },
  {
   "cell_type": "code",
   "execution_count": 10,
   "metadata": {
    "collapsed": false
   },
   "outputs": [
    {
     "data": {
      "text/plain": [
       "(57, 207)"
      ]
     },
     "execution_count": 10,
     "metadata": {},
     "output_type": "execute_result"
    }
   ],
   "source": [
    "encode_input('Brian').shape"
   ]
  },
  {
   "cell_type": "markdown",
   "metadata": {},
   "source": [
    "## 5. Build PyTorch Dataset and DataLoader"
   ]
  },
  {
   "cell_type": "code",
   "execution_count": 11,
   "metadata": {
    "collapsed": true
   },
   "outputs": [],
   "source": [
    "from torch.utils.data import Dataset, DataLoader"
   ]
  },
  {
   "cell_type": "code",
   "execution_count": 12,
   "metadata": {
    "collapsed": true
   },
   "outputs": [],
   "source": [
    "class SogouNews(Dataset):\n",
    "    \"\"\"Sogou News dataset\"\"\"\n",
    "    \n",
    "    def __init__(self, data_path):\n",
    "        self.data = pd.read_csv(data_path, names=['label', 'title', 'content']).dropna()\n",
    "        del self.data['content']\n",
    "        self.X = self.data['title']\n",
    "        self.y = self.data['label']\n",
    "    \n",
    "    def __len__(self):\n",
    "        return len(self.data)\n",
    "    \n",
    "    def __getitem__(self, index):\n",
    "        content = torch.from_numpy(encode_input(self.data['title'][index])).float()\n",
    "        label = self.data['label'][index] - 1\n",
    "        sample = {'X': content, 'y': label}\n",
    "        return sample"
   ]
  },
  {
   "cell_type": "code",
   "execution_count": 13,
   "metadata": {
    "collapsed": true
   },
   "outputs": [],
   "source": [
    "sogou_dataset = SogouNews(data_path)"
   ]
  },
  {
   "cell_type": "code",
   "execution_count": 14,
   "metadata": {
    "collapsed": true
   },
   "outputs": [],
   "source": [
    "dataloader = DataLoader(sogou_dataset, batch_size=32, shuffle=True, num_workers=0)"
   ]
  },
  {
   "cell_type": "code",
   "execution_count": 15,
   "metadata": {
    "collapsed": false
   },
   "outputs": [
    {
     "data": {
      "text/plain": [
       "\n",
       "    1     0     0  ...      0     0     0\n",
       "    0     0     0  ...      0     0     0\n",
       "    0     0     0  ...      0     0     0\n",
       "       ...          ⋱          ...       \n",
       "    0     0     0  ...      0     0     0\n",
       "    0     0     0  ...      0     0     0\n",
       "    0     0     0  ...      0     0     0\n",
       "[torch.FloatTensor of size 57x207]"
      ]
     },
     "execution_count": 15,
     "metadata": {},
     "output_type": "execute_result"
    }
   ],
   "source": [
    "test_batch = next(iter(dataloader))\n",
    "test_batch['X'][0]"
   ]
  },
  {
   "cell_type": "markdown",
   "metadata": {},
   "source": [
    "# Define Model"
   ]
  },
  {
   "cell_type": "code",
   "execution_count": 16,
   "metadata": {
    "collapsed": true
   },
   "outputs": [],
   "source": [
    "class CharCNN(nn.Module):    \n",
    "    def __init__(self, n_classes, vocab_size, max_seq_length, channel_size=128, pool_size=5):\n",
    "        \n",
    "        super(CharCNN, self).__init__()\n",
    "    \n",
    "        self.conv_stack = nn.ModuleList([nn.Conv1d(vocab_size, channel_size, 7), \n",
    "                                         nn.ReLU(),\n",
    "                                         nn.BatchNorm1d(num_features=channel_size),\n",
    "                                         nn.MaxPool1d(pool_size),\n",
    "                                         nn.Conv1d(channel_size, channel_size, 3, padding=1),\n",
    "                                         nn.ReLU(),\n",
    "                                         nn.BatchNorm1d(num_features=channel_size),\n",
    "                                         nn.MaxPool1d(pool_size)])\n",
    "        self.dropout1 = nn.Dropout(p=0.5)\n",
    "        self.output = nn.Linear(1024, n_classes)\n",
    "        \n",
    "        \n",
    "    def forward(self, x):\n",
    "        for op in self.conv_stack:\n",
    "            x = op(x)\n",
    "        \n",
    "        x = x.view(x.size(0),-1)\n",
    "        x = self.dropout1(x)\n",
    "        x = self.output(x)\n",
    "        return x"
   ]
  },
  {
   "cell_type": "markdown",
   "metadata": {},
   "source": [
    "## Define loss"
   ]
  },
  {
   "cell_type": "code",
   "execution_count": 17,
   "metadata": {
    "collapsed": true
   },
   "outputs": [],
   "source": [
    "criterion = nn.CrossEntropyLoss()"
   ]
  },
  {
   "cell_type": "code",
   "execution_count": 18,
   "metadata": {
    "collapsed": true
   },
   "outputs": [],
   "source": [
    "from tqdm import tqdm_notebook"
   ]
  },
  {
   "cell_type": "code",
   "execution_count": 22,
   "metadata": {
    "collapsed": true
   },
   "outputs": [],
   "source": [
    "def train(model, dataloader, num_epochs):\n",
    "    cuda = torch.cuda.is_available()\n",
    "    if cuda:\n",
    "        model.cuda()\n",
    "    optimizer = torch.optim.Adam(model.parameters())\n",
    "    loss_history = []\n",
    "    bar = tqdm_notebook(total=len(dataloader))\n",
    "    for i in range(num_epochs):\n",
    "        per_epoch_losses = []\n",
    "        for batch in dataloader:\n",
    "            X = Variable(batch['X'])\n",
    "            y = Variable(batch['y'])\n",
    "            if cuda:\n",
    "                X = X.cuda()\n",
    "                y = y.cuda()\n",
    "            model.zero_grad()\n",
    "            outputs = model(X)\n",
    "            loss = criterion(outputs, y)\n",
    "            loss.backward()\n",
    "            optimizer.step()\n",
    "            per_epoch_losses.append(loss.data[0])\n",
    "            bar.set_postfix(loss=loss.data[0])\n",
    "            bar.update(1)\n",
    "        loss_history.append(np.mean(per_epoch_losses))\n",
    "        print('epoch[%d] loss: %.4f' % (i, loss.data[0]))\n",
    "    return loss_history"
   ]
  },
  {
   "cell_type": "code",
   "execution_count": 23,
   "metadata": {
    "collapsed": true
   },
   "outputs": [],
   "source": [
    "charcnn = CharCNN(n_classes=5, vocab_size=len(chars), max_seq_length=maxlen)"
   ]
  },
  {
   "cell_type": "code",
   "execution_count": null,
   "metadata": {
    "collapsed": false
   },
   "outputs": [
    {
     "name": "stderr",
     "output_type": "stream",
     "text": [
      "The installed widget Javascript is the wrong version. It must satisfy the semver range ~2.1.4.\n"
     ]
    },
    {
     "data": {
      "application/vnd.jupyter.widget-view+json": {
       "model_id": "b87af9520b634d7dad6eb24e6bde0462"
      }
     },
     "metadata": {},
     "output_type": "display_data"
    }
   ],
   "source": [
    "%time loss_history = train(charcnn, dataloader, 100)"
   ]
  },
  {
   "cell_type": "code",
   "execution_count": 155,
   "metadata": {
    "collapsed": false
   },
   "outputs": [
    {
     "data": {
      "image/png": "[encoded data removed]",
      "text/plain": [
       "<matplotlib.figure.Figure at 0x1211355f8>"
      ]
     },
     "metadata": {},
     "output_type": "display_data"
    }
   ],
   "source": [
    "plt.plot(loss_history);"
   ]
  }
 ],
 "metadata": {
  "kernelspec": {
   "display_name": "pinkslip",
   "language": "python",
   "name": "pinkslip"
  },
  "language_info": {
   "codemirror_mode": {
    "name": "ipython",
    "version": 3
   },
   "file_extension": ".py",
   "mimetype": "text/x-python",
   "name": "python",
   "nbconvert_exporter": "python",
   "pygments_lexer": "ipython3",
   "version": "3.6.1"
  }
 },
 "nbformat": 4,
 "nbformat_minor": 2
}
