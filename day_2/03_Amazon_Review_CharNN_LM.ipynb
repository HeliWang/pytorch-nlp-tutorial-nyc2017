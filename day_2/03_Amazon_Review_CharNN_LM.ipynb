{
 "cells": [
  {
   "cell_type": "markdown",
   "metadata": {},
   "source": [
    "## Generate positive amazon reviews with a character level LSTM"
   ]
  },
  {
   "cell_type": "code",
   "execution_count": 1,
   "metadata": {
    "collapsed": true
   },
   "outputs": [],
   "source": [
    "import math\n",
    "import re\n",
    "import random\n",
    "import json\n",
    "\n",
    "import matplotlib.pyplot as plt\n",
    "import seaborn as sns\n",
    "import pandas as pd\n",
    "import numpy as np\n",
    "\n",
    "import torch\n",
    "import torch.nn as nn\n",
    "import torch.nn.functional as F\n",
    "from torch.nn import Parameter\n",
    "\n",
    "from torch.autograd import Variable\n",
    "from torch.utils.data import Dataset\n",
    "from torch.utils.data import DataLoader\n",
    "\n",
    "from datautils.vocabulary import Vocabulary\n",
    "\n",
    "from tqdm import tqdm_notebook\n",
    "\n",
    "import six\n",
    "\n",
    "plt.style.use('fivethirtyeight')\n",
    "plt.rcParams['figure.figsize'] = (14, 6)\n",
    "\n",
    "%matplotlib inline"
   ]
  },
  {
   "cell_type": "markdown",
   "metadata": {},
   "source": [
    "## Dataset: Amazon Reviews\n",
    "\n",
    "1. Description of dataset\n",
    "2. What is the format\n",
    "3. Why are we using it\n",
    "4. Where did you get it. \n"
   ]
  },
  {
   "cell_type": "markdown",
   "metadata": {},
   "source": [
    "## Constants"
   ]
  },
  {
   "cell_type": "code",
   "execution_count": 55,
   "metadata": {
    "collapsed": true
   },
   "outputs": [],
   "source": [
    "## CONSTANTS\n",
    "\n",
    "class constants:\n",
    "    AMAZON_REVIEW_CSV = '/research/data/amazon_reviews/train_small.csv'\n",
    "    CHAR_SEQUENCE_LENGTH = 30\n",
    "    CHAR_START_TOKEN = \"^\"\n",
    "    CHAR_END_TOKEN= \"_\""
   ]
  },
  {
   "cell_type": "markdown",
   "metadata": {},
   "source": [
    "## Data"
   ]
  },
  {
   "cell_type": "code",
   "execution_count": 56,
   "metadata": {
    "code_folding": [],
    "collapsed": true
   },
   "outputs": [],
   "source": [
    "class AmazonReviewsDataset(object):\n",
    "    \"\"\"Amazon Reviews text dataset for language modeling.\n",
    "    \n",
    "       Args:\n",
    "        data_path (str): Path to Amazon reviews data file.\n",
    "        num_samples (int): Number of amazon reviews to load.\n",
    "        max_review_length (int): Filters reviews longer than specified length.\n",
    "            [default=400]\n",
    "        max_sequence_length (int): Max length of sequences for use in training language model.\n",
    "            [default=40]\n",
    "        sentiment (int): sentiment of reviews to select, 1 (negative) or 2 (positive).\n",
    "            [default=2]\n",
    "    \"\"\"\n",
    "\n",
    "    def __init__(self, data_path):\n",
    "        data = pd.read_csv(data_path, names=['sentiment', 'title', 'review'])\n",
    "        self.data = self.preprocess(data)\n",
    "        \n",
    "    def preprocess(self, data):\n",
    "        remove_special = lambda text: re.sub(r'[^A-Za-z0-9.!?#$\\n]+', ' ', text)        \n",
    "        data['review'] = data.review.apply(remove_special)\n",
    "        return data\n",
    "        \n",
    "    def get_data(self, char_seq_length, sentiment=\"negative\", only_n_samples=-1):\n",
    "        \"\"\"\n",
    "        return the data for a specific sentiment, default is negative\n",
    "        \"\"\"\n",
    "        \n",
    "        sentiment = {\"negative\": 1, \"positive\": 2}[sentiment]\n",
    "        data = self.data[self.data.sentiment==sentiment]\n",
    "        text_list = data.review\n",
    "        \n",
    "        if only_n_samples > 0:\n",
    "            indices = np.random.choice(np.arange(len(text_list)), size=only_n_samples, replace=False)\n",
    "            text_list = [text_list.iloc[i] for i in indices]\n",
    "        \n",
    "        return self.generate_windowed_sequences(text_list, char_seq_length)\n",
    "    \n",
    "    def get_character_set(self):\n",
    "        return set([char for review in self.data.review for char in review])\n",
    "        \n",
    "    def generate_windowed_sequences(self, text_list, char_seq_length=40, step_size=1):\n",
    "        \"\"\"\n",
    "        .. note:: step_size is the inter-window step size\n",
    "        \"\"\"\n",
    "        sequences = []\n",
    "        next_chars = []\n",
    "            \n",
    "        for text in text_list:\n",
    "            last_begin_index = len(text) - char_seq_length\n",
    "            for begin_index in range(0, last_begin_index, step_size):\n",
    "                end_index = begin_index + char_seq_length\n",
    "                sequences.append(text[begin_index:end_index])\n",
    "                next_chars.append(text[end_index])\n",
    "        return sequences, next_chars\n",
    "    \n",
    "\n",
    "class AmazonReviewsVectorizer(object):\n",
    "    def __init__(self, chars_vocab):\n",
    "        self.chars_vocab = chars_vocab\n",
    "        \n",
    "    def save(self, filename):\n",
    "        vec_dict = {\"chars_vocab\": self.chars_vocab.get_serializable_contents()}\n",
    "\n",
    "        with open(filename, \"w\") as fp:\n",
    "            json.dump(vec_dict, fp)\n",
    "        \n",
    "    @classmethod\n",
    "    def load(cls, filename):\n",
    "        with open(filename, \"r\") as fp:\n",
    "            vec_dict = json.load(fp)\n",
    "\n",
    "        vec_dict[\"chars_vocab\"] = Vocabulary.deserialize_from_contents(vec_dict[\"chars_vocab\"])\n",
    "        return cls(**vec_dict)\n",
    "\n",
    "    @classmethod\n",
    "    def induce_from_text(cls, *texts):\n",
    "        \"\"\"\n",
    "        \"\"\"\n",
    "        vocab = Vocabulary(use_unks=True,\n",
    "                           use_start_end=True,\n",
    "                           start_token=constants.CHAR_START_TOKEN,\n",
    "                           end_token=constants.CHAR_END_TOKEN)\n",
    "        for text in texts:\n",
    "            for character_sequence in text:\n",
    "                vocab.add_many(set(character_sequence))\n",
    "        return cls(vocab)\n",
    "\n",
    "    def convert_dataset(self, char_sequences, char_targets,  progbar_wrapper=None):\n",
    "\n",
    "        num_data = len(char_sequences)\n",
    "        \n",
    "        seq_length = constants.CHAR_SEQUENCE_LENGTH + 2 # 2 for start, end tokens\n",
    "        x_sequences = np.zeros((num_data, seq_length), dtype=np.int64)\n",
    "        y_targets = np.zeros((num_data), dtype=np.int64)\n",
    "\n",
    "        if progbar_wrapper is not None:\n",
    "            enum = enumerate(progbar_wrapper(char_sequences))\n",
    "        else:\n",
    "            enum = enumerate(char_sequences)\n",
    "            \n",
    "        for seq_index, char_sequence in enum:\n",
    "            x_sequences[seq_index] = list(self.chars_vocab.map(char_sequence, \n",
    "                                                         include_start_end=True))\n",
    "            y_targets[seq_index] = self.chars_vocab[char_targets[seq_index]]\n",
    "\n",
    "        return VectorizedSingleIODataset(x_sequences, y_targets)\n",
    "\n",
    "class VectorizedSingleIODataset(Dataset):\n",
    "    def __init__(self, x_input, y_target):\n",
    "        self.x_input = x_input\n",
    "        self.y_target = y_target\n",
    "\n",
    "    def __len__(self):\n",
    "        return len(self.x_input)\n",
    "\n",
    "    def __getitem__(self, index):\n",
    "        return {'x_input': self.x_input[index],\n",
    "                'y_target': self.y_target[index],\n",
    "                'x_lengths': len(self.x_input[index].nonzero()[0])}\n",
    "    \n",
    "class DataServer(object):\n",
    "    def __init__(self, vectorized_data):\n",
    "        self.vectorized_data = vectorized_data\n",
    "        self.gpu_mode = False\n",
    "        self.volatile_mode = False\n",
    "    \n",
    "    def serve_batches(self, batch_size, num_batches=-1, num_workers=0):\n",
    "        datagen = DataLoader(self.vectorized_data, batch_size=batch_size, \n",
    "                             shuffle=True, num_workers=num_workers)\n",
    "        for batch_index, batch in enumerate(datagen):\n",
    "            out = {}\n",
    "            for key, val in batch.items():\n",
    "                if not isinstance(val, Variable):\n",
    "                    val = Variable(val)\n",
    "                if self.gpu_mode:\n",
    "                    val = val.cuda()\n",
    "                if self.volatile_mode:\n",
    "                    val = val.volatile() \n",
    "                out[key] = val\n",
    "                \n",
    "            yield out\n",
    "            if num_batches > 0 and batch_index > num_batches:\n",
    "                break\n",
    "                \n",
    "    def enable_gpu_mode(self):\n",
    "        self.gpu_mode = True\n",
    "        \n",
    "    def disable_gpu_mode(self):\n",
    "        self.gpu_mode = False"
   ]
  },
  {
   "cell_type": "markdown",
   "metadata": {},
   "source": [
    "## Build Model"
   ]
  },
  {
   "cell_type": "code",
   "execution_count": 59,
   "metadata": {
    "code_folding": [],
    "collapsed": true
   },
   "outputs": [],
   "source": [
    "class CharNN(nn.Module):\n",
    "    def __init__(self, embedding_dim, hidden_dim, vocab_size, num_rnn_layers=1):\n",
    "        super(CharNN, self).__init__()\n",
    "        \n",
    "        self.emb = nn.Embedding(vocab_size, embedding_dim, padding_idx=0)\n",
    "        self.rnn = nn.GRU(embedding_dim, hidden_dim, batch_first=True, num_layers=num_rnn_layers)\n",
    "        self.affine = nn.Linear(hidden_dim, vocab_size)\n",
    "        \n",
    "        \n",
    "        self._cached_config = dict(embedding_dim=embedding_dim, \n",
    "                                   hidden_dim=hidden_dim,\n",
    "                                   vocab_size=vocab_size,\n",
    "                                   num_rnn_layers=num_rnn_layers)\n",
    "        \n",
    "    def hidden_from_x(self, x, zero_out=True):\n",
    "        hidden = x.data.new(self.rnn.num_layers, \n",
    "                                     x.size(0), \n",
    "                                     self.rnn.hidden_size)\n",
    "        if zero_out:\n",
    "            hidden = hidden.zero_()\n",
    "        else:\n",
    "            stdv = 1. / math.sqrt(self.hidden.size(2))\n",
    "            hidden.data.uniform_(-stdv, stdv)\n",
    "        \n",
    "        return Variable(hidden)\n",
    "    \n",
    "    def forward(self, x_in, apply_softmax=False, hidden=None, return_with_hidden=False):\n",
    "        \n",
    "        \n",
    "        x_embedded = self.emb(x_in)\n",
    "        if hidden is None:\n",
    "            hidden = self.hidden_from_x(x_embedded, True)\n",
    "        x_post_rnn, hidden = self.rnn(x_embedded, hidden)\n",
    "        # get final vector in sequence\n",
    "        x_post_rnn = x_post_rnn[:, -1, :] \n",
    "        out = self.affine(x_post_rnn)\n",
    "        if apply_softmax:\n",
    "            out = F.softmax(out)\n",
    "        if return_with_hidden:\n",
    "            return out, hidden\n",
    "        else:\n",
    "            return out\n",
    "    \n",
    "    def save(self, json_filename, model_state_filename):\n",
    "        torch.save(self.state_dict(), model_state_filename)\n",
    "        with open(json_filename, \"w\") as fp:\n",
    "            json.dump(self._cached_config, fp)\n",
    "    \n",
    "    @classmethod\n",
    "    def load(cls, json_filename, model_state_filename):\n",
    "        with open(json_filename, \"r\") as fp:\n",
    "            config = json.load(fp)\n",
    "        out = cls(**config)\n",
    "        out.load_state_dict(torch.load(model_state_filename))\n",
    "        return out"
   ]
  },
  {
   "cell_type": "code",
   "execution_count": 67,
   "metadata": {
    "code_folding": [],
    "collapsed": true
   },
   "outputs": [],
   "source": [
    "class CrossEntTrainer(object):\n",
    "    def __init__(self, model, optimizer_class, gpu_mode=False, learning_rate=0.0001):\n",
    "        self.model = model\n",
    "        if isinstance(optimizer_class, six.string_types):\n",
    "            if not hasattr(torch.optim, optimizer_class):\n",
    "                raise Exception(\"{} is not a valid optimizer\".format(optimizer_class))\n",
    "            optimizer_class = getattr(torch.optim, optimizer_class)\n",
    "        self.optimizer = optimizer_class(model.parameters(), lr=learning_rate)\n",
    "        self.loss = nn.CrossEntropyLoss()\n",
    "        self.gpu_mode = gpu_mode\n",
    "        self.loss_history = []\n",
    "    \n",
    "    def _reset_gradient(self):\n",
    "        self.optimizer.zero_grad()\n",
    "        self.model.zero_grad()\n",
    "        \n",
    "    def train(self, data_server, batch_size=64, num_batches=-1, num_epochs=1):\n",
    "        if self.gpu_mode:\n",
    "            self.model.cuda()\n",
    "            data_server.enable_gpu_mode()\n",
    "            print(\"enabling gpu mode\")\n",
    "        else:\n",
    "            self.model.cpu()\n",
    "            data_server.disable_gpu_mode()\n",
    "        epoch_bar = tqdm_notebook(total=num_epochs, unit=\" epochs\", position=0)\n",
    "        batch_bar = tqdm_notebook(unit=\" batches\", position=1)\n",
    "        for _ in range(num_epochs):\n",
    "            for batch in data_server.serve_batches(batch_size, num_batches):\n",
    "                self._reset_gradient()\n",
    "                yhat = self.model(batch['x_input'])\n",
    "                computed_loss = self.loss(yhat, batch['y_target'])\n",
    "                computed_loss.backward()\n",
    "                self.optimizer.step()\n",
    "\n",
    "                computed_loss_ = float(computed_loss.data.cpu().numpy()[0])\n",
    "                batch_bar.set_postfix(loss=computed_loss_)\n",
    "                self.loss_history.append(computed_loss_)\n",
    "                batch_bar.update(1)\n",
    "                \n",
    "            sampled_text = sample_from(model, vectorizer, use_cuda=self.gpu_mode, n_length=50, burn=10)\n",
    "            epoch_bar.set_postfix(sample=sampled_text)\n",
    "            epoch_bar.update(1)\n",
    "\n",
    "        batch_bar.clear()"
   ]
  },
  {
   "cell_type": "code",
   "execution_count": 62,
   "metadata": {
    "collapsed": true
   },
   "outputs": [],
   "source": [
    "def variable_from_string(vectorizer, a_string):\n",
    "    out = np.array(list(vectorizer.chars_vocab.map(a_string)))\n",
    "    return Variable(torch.LongTensor(out)).view(1,-1)\n",
    "\n",
    "def sample_from(model, vectorizer, temperature=1.0, seed_text=None, use_cuda=True, hx=None, n_length=10, burn=0):\n",
    "    if seed_text is None:\n",
    "        seed_text = random.choice([vectorizer.chars_vocab.start_token])\n",
    "    in_var = variable_from_string(vectorizer, seed_text)\n",
    "    if use_cuda:\n",
    "        in_var = in_var.cuda()\n",
    "    for _ in range(n_length):\n",
    "        if in_var.data.min() < 0:\n",
    "            continue\n",
    "        y_pred, hx = model(in_var, apply_softmax=False, hidden=hx, return_with_hidden=True)\n",
    "        y_pred = torch.nn.functional.softmax(y_pred/temperature)\n",
    "        in_var = torch.multinomial(y_pred)\n",
    "        seed_text += vectorizer.chars_vocab.lookup(in_var.data.cpu().numpy().ravel()[0])\n",
    "        if seed_text[-1] == constants.CHAR_END_TOKEN:\n",
    "            break\n",
    "    return seed_text[burn:]\n",
    "    "
   ]
  },
  {
   "cell_type": "code",
   "execution_count": null,
   "metadata": {
    "collapsed": true
   },
   "outputs": [],
   "source": [
    "text_dataset = AmazonReviewsDataset(constants.AMAZON_REVIEW_CSV)\n",
    "char_sequences, char_targets = text_dataset.get_data(constants.CHAR_SEQUENCE_LENGTH, only_n_samples=100)\n",
    "char_set = text_dataset.get_character_set()\n",
    "print(len(char_sequences), len(char_targets))"
   ]
  },
  {
   "cell_type": "code",
   "execution_count": 63,
   "metadata": {
    "collapsed": true
   },
   "outputs": [],
   "source": [
    "import os\n",
    "\n",
    "if os.path.exists(\"model.json\"):\n",
    "    model = CharNN.load(\"model.json\", \"model.state\")\n",
    "    vectorizer = AmazonReviewsVectorizer.load(\"vectorizer.json\")\n",
    "    vectorizer.chars_vocab.freeze()\n",
    "else:\n",
    "    vectorizer = AmazonReviewsVectorizer.induce_from_text(char_set)\n",
    "    vectorized_dataset = vectorizer.convert_dataset(char_sequences, char_targets, progbar_wrapper=tqdm_notebook)\n",
    "\n",
    "    model_parameters = dict(embedding_dim=16, \n",
    "                            hidden_dim=32,\n",
    "                            num_rnn_layers=1)\n",
    "    model = CharNN(vocab_size=len(vectorizer.chars_vocab), **model_parameters)\n",
    "    vectorizer.chars_vocab.freeze()\n",
    "\n",
    "data_server = DataServer(vectorized_dataset)"
   ]
  },
  {
   "cell_type": "code",
   "execution_count": 68,
   "metadata": {
    "collapsed": true
   },
   "outputs": [],
   "source": [
    "trainer = CrossEntTrainer(model, \"SGD\", True, 0.005)"
   ]
  },
  {
   "cell_type": "code",
   "execution_count": 71,
   "metadata": {},
   "outputs": [
    {
     "name": "stdout",
     "output_type": "stream",
     "text": [
      "enabling gpu mode\n"
     ]
    },
    {
     "data": {
      "application/vnd.jupyter.widget-view+json": {
       "model_id": "6281d9138dd54202926772cebc268f99"
      }
     },
     "metadata": {},
     "output_type": "display_data"
    },
    {
     "data": {
      "application/vnd.jupyter.widget-view+json": {
       "model_id": "4836496cdc4a43afb491f8c0f743af84"
      }
     },
     "metadata": {},
     "output_type": "display_data"
    },
    {
     "name": "stdout",
     "output_type": "stream",
     "text": [
      "\n"
     ]
    }
   ],
   "source": [
    "try:\n",
    "    trainer.train(data_server, num_epochs=1000)\n",
    "except KeyboardInterrupt:\n",
    "    passp"
   ]
  },
  {
   "cell_type": "code",
   "execution_count": 10,
   "metadata": {
    "collapsed": true
   },
   "outputs": [],
   "source": [
    "\n",
    "model.save(\"model.json\", \"model.state\")\n",
    "vectorizer.save(\"vectorizer.json\")"
   ]
  },
  {
   "cell_type": "code",
   "execution_count": 11,
   "metadata": {
    "collapsed": true
   },
   "outputs": [],
   "source": []
  },
  {
   "cell_type": "code",
   "execution_count": 53,
   "metadata": {
    "collapsed": true
   },
   "outputs": [],
   "source": [
    "model.cuda();"
   ]
  },
  {
   "cell_type": "code",
   "execution_count": 30,
   "metadata": {},
   "outputs": [
    {
     "data": {
      "text/plain": [
       "'^....................................................................................................'"
      ]
     },
     "execution_count": 30,
     "metadata": {},
     "output_type": "execute_result"
    }
   ],
   "source": [
    "sample_from(model, vectorizer, temperature=0.1, n_length=100)"
   ]
  },
  {
   "cell_type": "code",
   "execution_count": 33,
   "metadata": {},
   "outputs": [
    {
     "data": {
      "text/plain": [
       "'^The computerddistty threyt...d.d spitttyis thrittty thrittty threokistty thrittty...d.d threatttyis gmistty thre'"
      ]
     },
     "execution_count": 33,
     "metadata": {},
     "output_type": "execute_result"
    }
   ],
   "source": [
    "sample_from(model, vectorizer, seed_text=\"^The computer\", temperature=0.4, n_length=100)"
   ]
  },
  {
   "cell_type": "code",
   "execution_count": 52,
   "metadata": {
    "collapsed": true
   },
   "outputs": [],
   "source": [
    "plt.scatter?"
   ]
  },
  {
   "cell_type": "code",
   "execution_count": 70,
   "metadata": {},
   "outputs": [
    {
     "data": {
      "image/png": "[encoded data removed]",
      "text/plain": [
       "<matplotlib.figure.Figure at 0x7fd068c8a3c8>"
      ]
     },
     "metadata": {},
     "output_type": "display_data"
    }
   ],
   "source": [
    "average_step = 100\n",
    "\n",
    "_, ax = plt.subplots(1, 1, figsize=(20,5))\n",
    "\n",
    "loss_history = np.array(trainer.loss_history).reshape(-1, average_step).mean(axis=-1)\n",
    "\n",
    "ax.scatter(np.arange(len(loss_history)), loss_history, color='#942174', s=1+average_step//2);\n",
    "\n",
    "ax.set_xlabel(\"Batch\")\n",
    "ax.set_ylabel(\"Loss\");\n",
    "\n",
    "sns.despine(left=True,bottom=True)\n"
   ]
  }
 ],
 "metadata": {
  "kernelspec": {
   "display_name": "py3torch",
   "language": "python",
   "name": "py3torch"
  },
  "language_info": {
   "codemirror_mode": {
    "name": "ipython",
    "version": 3
   },
   "file_extension": ".py",
   "mimetype": "text/x-python",
   "name": "python",
   "nbconvert_exporter": "python",
   "pygments_lexer": "ipython3",
   "version": "3.6.1"
  },
  "latex_envs": {
   "LaTeX_envs_menu_present": true,
   "autocomplete": true,
   "bibliofile": "biblio.bib",
   "cite_by": "apalike",
   "current_citInitial": 1,
   "eqLabelWithNumbers": true,
   "eqNumInitial": 1,
   "hotkeys": {
    "equation": "Ctrl-E",
    "itemize": "Ctrl-I"
   },
   "labels_anchors": false,
   "latex_user_defs": false,
   "report_style_numbering": false,
   "user_envs_cfg": false
  },
  "notify_time": "10",
  "varInspector": {
   "cols": {
    "lenName": 16,
    "lenType": 16,
    "lenVar": 40
   },
   "kernels_config": {
    "python": {
     "delete_cmd_postfix": "",
     "delete_cmd_prefix": "del ",
     "library": "var_list.py",
     "varRefreshCmd": "print(var_dic_list())"
    },
    "r": {
     "delete_cmd_postfix": ") ",
     "delete_cmd_prefix": "rm(",
     "library": "var_list.r",
     "varRefreshCmd": "cat(var_dic_list()) "
    }
   },
   "types_to_exclude": [
    "module",
    "function",
    "builtin_function_or_method",
    "instance",
    "_Feature"
   ],
   "window_display": false
  }
 },
 "nbformat": 4,
 "nbformat_minor": 2
}
