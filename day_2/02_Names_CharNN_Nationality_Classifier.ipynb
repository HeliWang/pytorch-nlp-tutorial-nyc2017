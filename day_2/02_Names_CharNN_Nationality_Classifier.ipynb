{
 "cells": [
  {
   "cell_type": "markdown",
   "metadata": {},
   "source": [
    "# RNN Name Classification"
   ]
  },
  {
   "cell_type": "code",
   "execution_count": 2,
   "metadata": {
    "collapsed": true
   },
   "outputs": [],
   "source": [
    "import math\n",
    "import re\n",
    "import random\n",
    "\n",
    "import matplotlib.pyplot as plt\n",
    "import seaborn as sns\n",
    "import pandas as pd\n",
    "import numpy as np\n",
    "import torch\n",
    "import torch.nn as nn\n",
    "from torch.autograd import Variable\n",
    "import torch.nn.functional as F\n",
    "from datautils.serve import DataServer\n",
    "\n",
    "from tqdm import tqdm_notebook\n",
    "\n",
    "from torch.utils.data import Dataset\n",
    "\n",
    "from datautils.vocabulary import Vocabulary\n",
    "from datautils.misc import get_sequence_lengths\n",
    "\n",
    "import six\n",
    "\n",
    "plt.style.use('fivethirtyeight')\n",
    "plt.rcParams['figure.figsize'] = (14, 6)\n",
    "\n",
    "%matplotlib inline"
   ]
  },
  {
   "cell_type": "markdown",
   "metadata": {},
   "source": [
    "## Constants"
   ]
  },
  {
   "cell_type": "code",
   "execution_count": 3,
   "metadata": {
    "collapsed": true
   },
   "outputs": [],
   "source": [
    "class constants:\n",
    "    NAMES_TRAIN = '/research/data/names/names_train.csv'\n",
    "    NAMES_TEST = '/research/data/names/names_test.csv'\n",
    "    CHAR_START_TOKEN = \"^\"\n",
    "    CHAR_END_TOKEN= \"_\""
   ]
  },
  {
   "cell_type": "markdown",
   "metadata": {},
   "source": [
    "## Text Dataset"
   ]
  },
  {
   "cell_type": "code",
   "execution_count": 4,
   "metadata": {},
   "outputs": [],
   "source": [
    "class NamesDataset(object):\n",
    "    def __init__(self, data_path, delimiter=\",\"):\n",
    "        self.data = pd.read_csv(data_path, delimiter=delimiter)\n",
    "        \n",
    "    def get_data(self, nationality=None):\n",
    "        data = self.data\n",
    "        if nationality:\n",
    "            data = self.data[self.data['label']==nationality]\n",
    "        return data['name'].values, data['label'].values\n",
    "    \n",
    "\n",
    "class NamesVectorizer(object):\n",
    "    def __init__(self, chars_vocab, targets_vocab, max_sequence_length):\n",
    "        self.chars_vocab = chars_vocab\n",
    "        self.targets_vocab = targets_vocab\n",
    "        self.max_sequence_length = max_sequence_length\n",
    "\n",
    "    @classmethod\n",
    "    def induce_from_text(cls, text, targets):\n",
    "        \"\"\"\n",
    "        A TextDataset is converted to a VectorizedDataset created by:\n",
    "            1. For each variable, mapping the words or characters to an integer\n",
    "            2. For each variable, packing the integers into a matrix large\n",
    "                enough to contain the longest sequence for that variable\n",
    "        :param text_dataset:\n",
    "        :type text_dataset:\n",
    "        \"\"\"\n",
    "        chars_vocab = Vocabulary(use_unks=True,\n",
    "                                 use_start_end=True,\n",
    "                                 start_token=constants.CHAR_START_TOKEN,\n",
    "                                 end_token=constants.CHAR_END_TOKEN)\n",
    "        \n",
    "        targets_vocab = Vocabulary(use_unks=False,\n",
    "                                   use_start_end=False)\n",
    "        \n",
    "        for character_sequence in text:\n",
    "            chars_vocab.add_many(set(character_sequence))\n",
    "\n",
    "        targets_vocab.add_many(targets)\n",
    "\n",
    "        # add two for the start, end tokens\n",
    "        max_sequence_length = 2 + max(len(character_sequence) for character_sequence in text)\n",
    "\n",
    "        return cls(chars_vocab, targets_vocab, max_sequence_length)\n",
    "\n",
    "    def convert_dataset(self, char_sequences, targets):\n",
    "        num_data = len(char_sequences)\n",
    "        x_seq = np.zeros((num_data, self.max_sequence_length), dtype=np.int64)\n",
    "        y_target = np.zeros((num_data), dtype=np.int64)\n",
    "\n",
    "        for seq_i, target in enumerate(targets):\n",
    "            y_target[seq_i] = self.targets_vocab[target]\n",
    "\n",
    "        for seq_i, char_seq in enumerate(char_sequences):\n",
    "            converted_seq = list(self.chars_vocab.map(char_seq, include_start_end=True))\n",
    "            x_seq[seq_i, :len(converted_seq)] = converted_seq\n",
    "\n",
    "        return VectorizedSingleIODataset(x_seq, y_target)\n",
    "        \n",
    "    def save(self, filename):\n",
    "        vec_dict = {\"chars_vocab\": vectorizer.chars_vocab.get_serializable_contents(),\n",
    "                    \"targets_vocab\": vectorizer.targets_vocab.get_serializable_contents(),\n",
    "                    \"max_sequence_length\": vectorizer.max_sequence_length()}\n",
    "\n",
    "        with open(filename, \"w\") as fp:\n",
    "            json.dump(vec_dict, fp)\n",
    "        \n",
    "    @classmethod\n",
    "    def load(cls, filename):\n",
    "        with open(filename, \"r\") as fp:\n",
    "            vec_dict = json.load(fp)\n",
    "\n",
    "        vec_dict[\"chars_vocab\"] = Vocabulary.deserialize_from_contents(vec_dict[\"chars_vocab\"])\n",
    "        vec_dict[\"targets_vocab\"] = Vocabulary.deserialize_from_contents(vec_dict[\"targets_vocab\"])\n",
    "        return cls(**vec_dict)\n",
    "        \n",
    "class VectorizedSingleIODataset(Dataset):\n",
    "    def __init__(self, x_input, y_target):\n",
    "        self.x_input = x_input\n",
    "        self.y_target = y_target\n",
    "        self.class_weights = 1 / np.bincount(self.y_target)\n",
    "\n",
    "    def __len__(self):\n",
    "        return len(self.x_input)\n",
    "\n",
    "    def __getitem__(self, index):\n",
    "        return {'x_input': self.x_input[index],\n",
    "                'y_target': self.y_target[index], \n",
    "                'class_weights': self.class_weights,\n",
    "                'x_seq_lengths': len(self.x_input[index].nonzero()[0])}\n",
    "    "
   ]
  },
  {
   "cell_type": "markdown",
   "metadata": {
    "collapsed": true
   },
   "source": [
    "## Model"
   ]
  },
  {
   "cell_type": "code",
   "execution_count": 5,
   "metadata": {
    "collapsed": true
   },
   "outputs": [],
   "source": [
    "class NamesClassifier(nn.Module):\n",
    "    def __init__(self, embedding_dim, hidden_dim, input_vocab_size, output_vocab_size, num_rnn_layers=1):\n",
    "        super(NamesClassifier, self).__init__()\n",
    "        \n",
    "        self.emb = nn.Embedding(input_vocab_size, embedding_dim, padding_idx=0)\n",
    "        self.rnn = nn.GRU(embedding_dim, hidden_dim, batch_first=True, num_layers=num_rnn_layers)\n",
    "        self.affine = nn.Linear(hidden_dim, output_vocab_size)\n",
    "        \n",
    "        self._cached_config = dict(embedding_dim=embedding_dim, \n",
    "                                   hidden_dim=hidden_dim,\n",
    "                                   input_vocab_size=input_vocab_size,\n",
    "                                   output_vocab_size=output_vocab_size,\n",
    "                                   num_rnn_layers=num_rnn_layers)\n",
    "    \n",
    "    def forward(self, x_in, sequence_lengths=None, apply_softmax=False, use_gpu=True):\n",
    "        x_embedded = self.emb(x_in)\n",
    "        x_post_rnn, _ = self.rnn(x_embedded)\n",
    "        \n",
    "        if sequence_lengths is not None:\n",
    "            last_item_indices = sequence_lengths.data - 1\n",
    "            last_item_indices += torch.arange(0, x_in.size(0)).long().cuda() * x_in.size(1)\n",
    "            if use_gpu:\n",
    "                last_item_indices = last_item_indices.cuda()\n",
    "                x_post_rnn = x_post_rnn.contiguous().cuda()\n",
    "            else:\n",
    "                x_post_rnn = x_post_rnn.contiguous()\n",
    "            # size = (batch, feature_size)\n",
    "            x_post_rnn = x_post_rnn.view(x_in.size(0) * x_in.size(1), -1)[last_item_indices]\n",
    "        else:\n",
    "            x_post_rnn = x_post_rnn[:, -1, :] \n",
    "        out = self.affine(x_post_rnn)\n",
    "        if apply_softmax:\n",
    "            out = F.softmax(out)\n",
    "        return out\n",
    "    \n",
    "    def save(self, json_filename, model_state_filename):\n",
    "        torch.save(self.state_dict(), model_state_filename)\n",
    "        with open(json_filename, \"w\") as fp:\n",
    "            json.dump(self._cached_config, fp)\n",
    "    \n",
    "    @classmethod\n",
    "    def load(cls, json_filename, model_state_filename):\n",
    "        with open(json_filename, \"r\") as fp:\n",
    "            config = json.load(fp)\n",
    "        out = cls(**config)\n",
    "        out.load_state_dict(model_sstate_filename)\n",
    "        return out"
   ]
  },
  {
   "cell_type": "code",
   "execution_count": 6,
   "metadata": {
    "collapsed": true
   },
   "outputs": [],
   "source": [
    "def accuracy(yhat, ytrue):\n",
    "        pred = yhat.max(1)[1].type_as(ytrue)\n",
    "        correct = pred.eq(ytrue)\n",
    "        if not hasattr(correct, 'mean'):\n",
    "            correct = correct.cpu()\n",
    "        return correct.float().mean()"
   ]
  },
  {
   "cell_type": "code",
   "execution_count": 7,
   "metadata": {
    "collapsed": true
   },
   "outputs": [],
   "source": [
    "class CrossEntTrainer(object):\n",
    "    def __init__(self, model, optimizer_class, gpu_mode=False, learning_rate=0.0001, class_weights=None):\n",
    "        self.model = model\n",
    "        if isinstance(optimizer_class, six.string_types):\n",
    "            if not hasattr(torch.optim, optimizer_class):\n",
    "                raise Exception(\"{} is not a valid optimizer\".format(optimizer_class))\n",
    "            optimizer_class = getattr(torch.optim, optimizer_class)\n",
    "        self.optimizer = optimizer_class(model.parameters(), lr=learning_rate, weight_decay=1e-4)\n",
    "        \n",
    "        if class_weights is not None and isinstance(class_weights, np.ndarray):\n",
    "            class_weights = torch.FloatTensor(class_weights)\n",
    "        \n",
    "        self.loss = nn.CrossEntropyLoss(weight=class_weights)\n",
    "        self.gpu_mode = gpu_mode\n",
    "        self.loss_history = []\n",
    "        self.accuracy_history = []\n",
    "    \n",
    "    def _reset_gradient(self):\n",
    "        self.optimizer.zero_grad()\n",
    "        self.model.zero_grad()\n",
    "        \n",
    "    def train(self, data_server, batch_size=64, num_batches=-1, num_epochs=1):\n",
    "        if self.gpu_mode:\n",
    "            self.model.cuda()\n",
    "            data_server.enable_gpu_mode()\n",
    "            self.loss.cuda()\n",
    "        else:\n",
    "            self.model.cpu()\n",
    "            data_server.disable_gpu_mode()\n",
    "            self.loss.cpu()\n",
    "        epoch_bar = tqdm_notebook(total=num_epochs, unit=\" epochs\", position=0)\n",
    "        batch_bar = tqdm_notebook(unit=\" batches\", position=1)\n",
    "        for _ in range(num_epochs):\n",
    "            for batch in data_server.serve_batches(batch_size, num_batches):\n",
    "                self._reset_gradient()\n",
    "                yhat = self.model(batch['x_input'], \n",
    "                                  sequence_lengths=batch['x_seq_lengths'],\n",
    "                                  use_gpu=self.gpu_mode)\n",
    "                computed_loss = self.loss(yhat, batch['y_target'])\n",
    "                computed_loss.backward()\n",
    "                self.optimizer.step()\n",
    "\n",
    "                computed_loss_ = computed_loss.data.cpu().numpy()[0]\n",
    "                computed_accuracy = accuracy(yhat, batch['y_target']).data.cpu().numpy()[0]\n",
    "                \n",
    "                batch_bar.set_postfix(loss=computed_loss_, accuracy=computed_accuracy)\n",
    "                \n",
    "                self.loss_history.append(computed_loss_)\n",
    "                self.accuracy_history.append(computed_accuracy)\n",
    "                \n",
    "                batch_bar.update(1)\n",
    "                \n",
    "            epoch_bar.update(1)\n",
    "\n",
    "        batch_bar.clear()\n",
    "        \n",
    "        \n",
    "    def evaluate(self, data_server, batch_size=64):\n",
    "        if self.gpu_mode:\n",
    "            self.model.cuda()\n",
    "            data_server.enable_gpu_mode()\n",
    "            self.loss.cuda()\n",
    "        else:\n",
    "            self.model.cpu()\n",
    "            data_server.disable_gpu_mode()\n",
    "            self.loss.cpu()\n",
    "        batch_bar = tqdm_notebook(unit=\" batches\", position=0)\n",
    "        \n",
    "        self.model.train(False)\n",
    "        for batch in data_server.serve_batches(batch_size):\n",
    "            yhat = self.model(batch['x_input'], \n",
    "                              sequence_lengths=batch['x_seq_lengths'],\n",
    "                              use_gpu=self.gpu_mode)\n",
    "            \n",
    "\n",
    "            computed_loss_ = float(computed_loss.data.cpu().numpy()[0])\n",
    "            batch_bar.set_postfix(loss=computed_loss_)\n",
    "            self.loss_history.append(computed_loss_)\n",
    "            batch_bar.update(1)\n",
    "        self.model.train(True)\n",
    "        batch_bar.clear()"
   ]
  },
  {
   "cell_type": "code",
   "execution_count": 8,
   "metadata": {
    "collapsed": true
   },
   "outputs": [],
   "source": [
    "train_dataset = NamesDataset(constants.NAMES_TRAIN)\n",
    "train_names, train_targets = train_dataset.get_data()\n",
    "\n",
    "test_dataset = NamesDataset(constants.NAMES_TEST)\n",
    "test_names, test_targets = test_dataset.get_data()\n",
    "\n",
    "vectorizer = NamesVectorizer.induce_from_text(list(train_names) + list(test_names), \n",
    "                                              list(train_targets) + list(test_targets))\n",
    "\n",
    "vectorized_train = vectorizer.convert_dataset(train_names, train_targets)\n",
    "train_server = DataServer(vectorized_train)\n",
    "\n",
    "vectorized_test = vectorizer.convert_dataset(test_names, test_targets)\n",
    "test_server = DataServer(vectorized_test)"
   ]
  },
  {
   "cell_type": "code",
   "execution_count": 9,
   "metadata": {
    "collapsed": true
   },
   "outputs": [],
   "source": [
    "model_parameters = dict(embedding_dim=100, \n",
    "                        hidden_dim=200,\n",
    "                        num_rnn_layers=1)\n",
    "model = NamesClassifier(input_vocab_size=len(vectorizer.chars_vocab),\n",
    "                        output_vocab_size=len(vectorizer.targets_vocab),\n",
    "                        **model_parameters)\n",
    "data_server = DataServer(vectorized_train)"
   ]
  },
  {
   "cell_type": "code",
   "execution_count": null,
   "metadata": {
    "collapsed": true
   },
   "outputs": [],
   "source": [
    "model.save(json_filename=\"names_charnn_classifer.json\", model_state_filename=\"names_charnn_classifier.state\")"
   ]
  },
  {
   "cell_type": "code",
   "execution_count": 10,
   "metadata": {
    "collapsed": true
   },
   "outputs": [],
   "source": [
    "trainer = CrossEntTrainer(model, optimizer_class=\"Adam\", gpu_mode=True, \n",
    "                          class_weights=vectorized_train.class_weights)"
   ]
  },
  {
   "cell_type": "code",
   "execution_count": null,
   "metadata": {},
   "outputs": [
    {
     "data": {
      "application/vnd.jupyter.widget-view+json": {
       "model_id": "1085a26159bb41938b88babef7430178"
      }
     },
     "metadata": {},
     "output_type": "display_data"
    },
    {
     "data": {
      "application/vnd.jupyter.widget-view+json": {
       "model_id": "1cf20c4b16304019b9856d12d316e466"
      }
     },
     "metadata": {},
     "output_type": "display_data"
    }
   ],
   "source": [
    "try:\n",
    "    trainer.train(data_server, num_epochs=4000, batch_size=128)\n",
    "except KeyboardInterrupt:\n",
    "    pass"
   ]
  },
  {
   "cell_type": "code",
   "execution_count": 35,
   "metadata": {
    "collapsed": true
   },
   "outputs": [],
   "source": [
    "sns.set_context(\"poster\")\n",
    "sns.set_style(\"dark\", {'axes.facecolor':'0.94'})"
   ]
  },
  {
   "cell_type": "code",
   "execution_count": 99,
   "metadata": {},
   "outputs": [
    {
     "data": {
      "text/plain": [
       "<matplotlib.legend.Legend at 0x7fbc89b54c18>"
      ]
     },
     "execution_count": 99,
     "metadata": {},
     "output_type": "execute_result"
    },
    {
     "data": {
      "image/png": "[encoded data removed]",
      "text/plain": [
       "<matplotlib.figure.Figure at 0x7fbc8a3f0438>"
      ]
     },
     "metadata": {},
     "output_type": "display_data"
    }
   ],
   "source": [
    "average_step = 200\n",
    "\n",
    "_, ax = plt.subplots(1, 1, figsize=(20,5))\n",
    "\n",
    "loss_history = trainer.loss_history[:len(trainer.loss_history)//average_step*average_step]\n",
    "acc_history = trainer.accuracy_history[:len(trainer.accuracy_history)//average_step*average_step]\n",
    "\n",
    "loss_history = np.array(loss_history).reshape(-1, average_step).mean(axis=-1)\n",
    "acc_history = np.array(acc_history).reshape(-1, average_step).mean(axis=-1)\n",
    "\n",
    "\n",
    "loss_artist = ax.scatter(np.arange(len(loss_history)), \n",
    "                         loss_history, color='#942174', \n",
    "                         s=1+average_step//2, label=\"Loss\");\n",
    "\n",
    "ax2 = ax.twinx()\n",
    "acc_artist = ax2.scatter(np.arange(len(acc_history)), \n",
    "                         acc_history, color='#F05732', \n",
    "                         s=1+average_step//2, label=\"Accuracy\");\n",
    "artists = [loss_artist, acc_artist]\n",
    "labels = [artist.get_label() for artist in artists]\n",
    "plt.legend(artists, labels, loc=5)\n"
   ]
  },
  {
   "cell_type": "code",
   "execution_count": 71,
   "metadata": {},
   "outputs": [
    {
     "name": "stdout",
     "output_type": "stream",
     "text": [
      "Hadad                predicted to be   Arabic   but is Arabic\n",
      "Prikazchikov         predicted to be  Russian   but is Russian\n",
      "Bajov                predicted to be  Russian   but is Russian\n",
      "Awduewsky            predicted to be  Russian   but is Russian\n",
      "Jablochkov           predicted to be  Russian   but is Russian\n",
      "Panek                predicted to be   Czech    but is Czech\n",
      "Imnadze              predicted to be  Russian   but is Russian\n",
      "Kinashita            predicted to be  Japanese  but is Japanese\n",
      "Mahortov             predicted to be  Russian   but is Russian\n",
      "Kenyon               predicted to be  English   but is English\n",
      "Jenkin               predicted to be  English   but is English\n",
      "Prolubnikov          predicted to be  Russian   but is Russian\n",
      "Groshev              predicted to be  Russian   but is Russian\n",
      "Avdakoff             predicted to be  Russian   but is Russian\n",
      "Woodley              predicted to be  English   but is English\n",
      "Tsytovich            predicted to be  Russian   but is Russian\n",
      "Finogeev             predicted to be  Russian   but is Russian\n",
      "Fromm                predicted to be   German   but is German\n",
      "Lody                 predicted to be  English   but is Russian\n",
      "Santiago             predicted to be Portuguese but is Portuguese\n",
      "Jampolsky            predicted to be  Russian   but is Russian\n",
      "Lezhankov            predicted to be  Russian   but is Russian\n",
      "Marhinin             predicted to be  Russian   but is Russian\n",
      "Eideman              predicted to be  Russian   but is Russian\n",
      "Richmond             predicted to be  English   but is English\n",
      "Fisk                 predicted to be  English   but is English\n",
      "Pritchard            predicted to be  English   but is English\n",
      "Oborin               predicted to be  Russian   but is Russian\n",
      "Tsai                 predicted to be   Korean   but is Russian\n",
      "Saliba               predicted to be   Arabic   but is Arabic\n",
      "Weichert             predicted to be   Czech    but is Czech\n",
      "Haliullin            predicted to be  Russian   but is Russian\n",
      "Shadsky              predicted to be  Russian   but is Russian\n",
      "Bakshanski           predicted to be  Russian   but is Russian\n",
      "Etsuko               predicted to be  Japanese  but is Japanese\n",
      "Edgson               predicted to be  English   but is English\n",
      "Geroev               predicted to be  Russian   but is Russian\n",
      "Asghar               predicted to be   Arabic   but is Arabic\n",
      "Martyuk              predicted to be  Russian   but is Russian\n",
      "Zhuravlenko          predicted to be  Russian   but is Russian\n",
      "Malouf               predicted to be   Arabic   but is Arabic\n",
      "Baturkin             predicted to be  Russian   but is Russian\n",
      "Kiefer               predicted to be   German   but is German\n",
      "Martyshin            predicted to be  Russian   but is Russian\n",
      "Piterskih            predicted to be  Russian   but is Russian\n",
      "Jolobov              predicted to be  Russian   but is Russian\n",
      "Kettlewell           predicted to be  English   but is English\n",
      "Raisky               predicted to be  Russian   but is Russian\n",
      "Haupt                predicted to be   German   but is German\n",
      "Goodall              predicted to be  English   but is English\n",
      "Thurgood             predicted to be  English   but is English\n",
      "Almeida              predicted to be Portuguese but is Portuguese\n",
      "Vanchugov            predicted to be  Russian   but is Russian\n",
      "Makhankov            predicted to be  Russian   but is Russian\n",
      "Himich               predicted to be  Russian   but is Russian\n",
      "Tuma                 predicted to be   Arabic   but is Arabic\n",
      "Costanzo             predicted to be  Italian   but is Italian\n",
      "Bakanoff             predicted to be  Russian   but is Russian\n",
      "Isayama              predicted to be  Japanese  but is Japanese\n",
      "Hakimi               predicted to be   Arabic   but is Arabic\n",
      "Lethbridge           predicted to be  English   but is English\n",
      "Koumanidis           predicted to be   Greek    but is Greek\n",
      "Gerhardt             predicted to be   German   but is German\n",
      "Frolushkin           predicted to be  Russian   but is Russian\n",
      "Yabsley              predicted to be  English   but is English\n",
      "Bagishaev            predicted to be  Russian   but is Russian\n",
      "Babin                predicted to be  Russian   but is Russian\n",
      "Mccann               predicted to be  English   but is English\n",
      "Harb                 predicted to be   Arabic   but is Arabic\n",
      "Novotortsev          predicted to be  Russian   but is Russian\n",
      "Tchalykh             predicted to be  Russian   but is Russian\n",
      "Hairulin             predicted to be  Russian   but is Russian\n",
      "Gudev                predicted to be  Russian   but is Russian\n",
      "Lein                 predicted to be  Russian   but is Russian\n",
      "Turiyansky           predicted to be  Russian   but is Russian\n",
      "Santo                predicted to be  Japanese  but is Japanese\n",
      "Kistler              predicted to be   German   but is German\n",
      "Harb                 predicted to be   Arabic   but is Arabic\n",
      "Hooton               predicted to be  English   but is English\n",
      "Horobryh             predicted to be  Russian   but is Russian\n",
      "Yakimovsky           predicted to be  Russian   but is Russian\n",
      "Hadad                predicted to be   Arabic   but is Arabic\n",
      "Matsko               predicted to be  Russian   but is Russian\n",
      "Otter                predicted to be  English   but is English\n",
      "Zaruba               predicted to be   Czech    but is Czech\n",
      "Hirose               predicted to be  Japanese  but is Japanese\n",
      "Imniaminov           predicted to be  Russian   but is Russian\n",
      "Nascimbene           predicted to be  Italian   but is Italian\n",
      "Glazyrin             predicted to be  Russian   but is Russian\n",
      "Zasoba               predicted to be  Russian   but is Russian\n",
      "Livshin              predicted to be  Russian   but is Russian\n",
      "Velichko             predicted to be  Russian   but is Russian\n",
      "Tobias               predicted to be   French   but is French\n",
      "Abdrashitov          predicted to be  Russian   but is Russian\n",
      "Vijonsky             predicted to be  Russian   but is Russian\n",
      "Babloev              predicted to be  Russian   but is Russian\n",
      "Roggeveen            predicted to be   Dutch    but is Dutch\n",
      "Delacroix            predicted to be   French   but is French\n",
      "Lyon                 predicted to be   French   but is French\n",
      "Damhan               predicted to be   Irish    but is Irish\n"
     ]
    }
   ],
   "source": [
    "def variable_from_string(vectorizer, a_string):\n",
    "    out = np.array(list(vectorizer.chars_vocab.map(a_string, include_start_end=True)))\n",
    "    return Variable(torch.LongTensor(out)).view(1,-1)\n",
    "\n",
    "def prediction_vector_from_name(name):\n",
    "    return model(variable_from_string(vectorizer, name).cuda(), \n",
    "                 Variable(torch.LongTensor([len(name)+2]).cuda()), \n",
    "                 apply_softmax=True)\n",
    "\n",
    "def prediction_string_from_name(name):\n",
    "    return vectorizer.targets_vocab.lookup(prediction_vector_from_name(name).max(1)[1].data[0][0])\n",
    "\n",
    "\n",
    "for name, target in zip(train_names[:100], train_targets[:100]):\n",
    "    pred = prediction_string_from_name(name)\n",
    "    print(\"{:<20} predicted to be {:^10} but is {}\".format(name, pred, target))"
   ]
  },
  {
   "cell_type": "code",
   "execution_count": 47,
   "metadata": {},
   "outputs": [
    {
     "data": {
      "text/plain": [
       "'Irish'"
      ]
     },
     "execution_count": 47,
     "metadata": {},
     "output_type": "execute_result"
    }
   ],
   "source": [
    "prediction_string_from_name(\"O'Reilly\")"
   ]
  },
  {
   "cell_type": "code",
   "execution_count": 48,
   "metadata": {},
   "outputs": [
    {
     "data": {
      "text/plain": [
       "'Spanish'"
      ]
     },
     "execution_count": 48,
     "metadata": {},
     "output_type": "execute_result"
    }
   ],
   "source": [
    "prediction_string_from_name(\"Lopez\")"
   ]
  },
  {
   "cell_type": "code",
   "execution_count": 49,
   "metadata": {},
   "outputs": [
    {
     "data": {
      "text/plain": [
       "'Arabic'"
      ]
     },
     "execution_count": 49,
     "metadata": {},
     "output_type": "execute_result"
    }
   ],
   "source": [
    "prediction_string_from_name(\"Shakir\")"
   ]
  },
  {
   "cell_type": "code",
   "execution_count": 50,
   "metadata": {},
   "outputs": [
    {
     "data": {
      "text/plain": [
       "'Arabic'"
      ]
     },
     "execution_count": 50,
     "metadata": {},
     "output_type": "execute_result"
    }
   ],
   "source": [
    "prediction_string_from_name(\"Mustafa\")"
   ]
  },
  {
   "cell_type": "code",
   "execution_count": 55,
   "metadata": {},
   "outputs": [
    {
     "data": {
      "text/plain": [
       "'English'"
      ]
     },
     "execution_count": 55,
     "metadata": {},
     "output_type": "execute_result"
    }
   ],
   "source": [
    "prediction_string_from_name(\"Bond\")"
   ]
  },
  {
   "cell_type": "code",
   "execution_count": 59,
   "metadata": {},
   "outputs": [
    {
     "data": {
      "text/plain": [
       "'Korean'"
      ]
     },
     "execution_count": 59,
     "metadata": {},
     "output_type": "execute_result"
    }
   ],
   "source": [
    "prediction_string_from_name(\"Choi\")"
   ]
  },
  {
   "cell_type": "code",
   "execution_count": 100,
   "metadata": {},
   "outputs": [
    {
     "data": {
      "text/plain": [
       "0.79028642590286424"
      ]
     },
     "execution_count": 100,
     "metadata": {},
     "output_type": "execute_result"
    }
   ],
   "source": [
    "eval_df = {\"name\": [], \"predicted\": [], \"actual\": []}\n",
    "\n",
    "for name, target in zip(test_names, test_targets):\n",
    "    eval_df['name'].append(name)\n",
    "    eval_df['predicted'].append(prediction_string_from_name(name))\n",
    "    eval_df['actual'].append(target)\n",
    "    \n",
    "eval_df = pd.DataFrame(eval_df)\n",
    "\n",
    "sum(eval_df['predicted']==eval_df['actual']) / len(eval_df)"
   ]
  },
  {
   "cell_type": "code",
   "execution_count": 101,
   "metadata": {},
   "outputs": [
    {
     "data": {
      "text/plain": [
       "0.90833030192797382"
      ]
     },
     "execution_count": 101,
     "metadata": {},
     "output_type": "execute_result"
    }
   ],
   "source": [
    "test_dataset_v2 = NamesDataset(data_path=\"/research/data/names/names_test_delip_version.csv\", delimiter=\"\\t\")\n",
    "test_names_v2, test_targets_v2 = test_dataset_v2.get_data()\n",
    "\n",
    "eval_df = {\"name\": [], \"predicted\": [], \"actual\": []}\n",
    "\n",
    "for name, target in zip(test_names_v2, test_targets_v2):\n",
    "    eval_df['name'].append(name)\n",
    "    eval_df['predicted'].append(prediction_string_from_name(name))\n",
    "    eval_df['actual'].append(target)\n",
    "    \n",
    "eval_df = pd.DataFrame(eval_df)\n",
    "\n",
    "sum(eval_df['predicted']==eval_df['actual']) / len(eval_df)"
   ]
  },
  {
   "cell_type": "code",
   "execution_count": null,
   "metadata": {
    "collapsed": true
   },
   "outputs": [],
   "source": []
  }
 ],
 "metadata": {
  "kernelspec": {
   "display_name": "py3torch",
   "language": "python",
   "name": "py3torch"
  },
  "language_info": {
   "codemirror_mode": {
    "name": "ipython",
    "version": 3
   },
   "file_extension": ".py",
   "mimetype": "text/x-python",
   "name": "python",
   "nbconvert_exporter": "python",
   "pygments_lexer": "ipython3",
   "version": "3.6.1"
  }
 },
 "nbformat": 4,
 "nbformat_minor": 2
}
