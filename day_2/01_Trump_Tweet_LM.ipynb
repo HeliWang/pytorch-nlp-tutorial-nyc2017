{
 "cells": [
  {
   "cell_type": "code",
   "execution_count": 82,
   "metadata": {
    "collapsed": true
   },
   "outputs": [],
   "source": [
    "import math\n",
    "import re\n",
    "import random\n",
    "\n",
    "from ast import literal_eval\n",
    "import matplotlib.pyplot as plt\n",
    "import seaborn as sns\n",
    "import pandas as pd\n",
    "import numpy as np\n",
    "\n",
    "import torch\n",
    "import torch.nn as nn\n",
    "import torch.nn.functional as F\n",
    "from torch.nn import Parameter\n",
    "\n",
    "from torch.autograd import Variable\n",
    "from torch.utils.data import Dataset\n",
    "from torch.utils.data import DataLoader\n",
    "\n",
    "from datautils.vocabulary import Vocabulary\n",
    "\n",
    "from tqdm import tqdm_notebook\n",
    "import spacy\n",
    "\n",
    "import six\n",
    "\n",
    "plt.style.use('fivethirtyeight')\n",
    "plt.rcParams['figure.figsize'] = (14, 6)\n",
    "\n",
    "%matplotlib inline"
   ]
  },
  {
   "cell_type": "markdown",
   "metadata": {},
   "source": [
    "## Constants"
   ]
  },
  {
   "cell_type": "code",
   "execution_count": 23,
   "metadata": {
    "collapsed": true
   },
   "outputs": [],
   "source": [
    "## CONSTANTS\n",
    "\n",
    "class constants:\n",
    "    TRUMP_TWEET_CSV = \"/research/data/trump.csv\"\n",
    "    TRAIN_PROPORTION = 0.8\n",
    "    WORD_START_TOKEN = \"^\"\n",
    "    WORD_END_TOKEN= \"_\""
   ]
  },
  {
   "cell_type": "markdown",
   "metadata": {},
   "source": [
    "## Data"
   ]
  },
  {
   "cell_type": "code",
   "execution_count": 96,
   "metadata": {},
   "outputs": [
    {
     "data": {
      "text/plain": [
       "['if',\n",
       " 'the',\n",
       " 'press',\n",
       " 'would',\n",
       " 'cover',\n",
       " 'me',\n",
       " 'accurately',\n",
       " 'honorably',\n",
       " 'i',\n",
       " 'would',\n",
       " 'have',\n",
       " 'far',\n",
       " 'less',\n",
       " 'reason',\n",
       " 'to',\n",
       " 'tweet',\n",
       " 'sadly',\n",
       " 'i',\n",
       " 'dont',\n",
       " 'know',\n",
       " 'if',\n",
       " 'that',\n",
       " 'will',\n",
       " 'ever',\n",
       " 'happen']"
      ]
     },
     "execution_count": 96,
     "metadata": {},
     "output_type": "execute_result"
    }
   ],
   "source": [
    "df = pd.read_csv(constants.TRUMP_TWEET_CSV)\n",
    "df['tweet'] = df.tweet.apply(literal_eval)\n",
    "df['tweet'] = df.tweet.apply(lambda x: [xx.lower() for xx in x])\n",
    "df.tweet[0]"
   ]
  },
  {
   "cell_type": "code",
   "execution_count": 321,
   "metadata": {
    "code_folding": [],
    "collapsed": true
   },
   "outputs": [],
   "source": [
    "class TrumpTweetDataset(object):\n",
    "    def __init__(self, data_path):\n",
    "        self.data = pd.read_csv(data_path)\n",
    "        self.data['tweet'] = self.data.tweet.apply(literal_eval)\n",
    "        self.data['tweet'] = self.data.tweet.apply(lambda tweet: [word.lower() for word in tweet])\n",
    "        \n",
    "    def get_data(self):\n",
    "        return self.data.tweet.tolist()    \n",
    "\n",
    "class TrumpTweetVectorizer(object):\n",
    "    def __init__(self, word_vocab, max_seq_length):\n",
    "        self.word_vocab = word_vocab\n",
    "        self.max_seq_length = max_seq_length\n",
    "        \n",
    "    def save(self, filename):\n",
    "        vec_dict = {\"word_vocab\": self.word_vocab.get_serializable_contents(),\n",
    "                    'max_seq_length': self.max_seq_length}\n",
    "\n",
    "        with open(filename, \"w\") as fp:\n",
    "            json.dump(vec_dict, fp)\n",
    "        \n",
    "    @classmethod\n",
    "    def load(cls, filename):\n",
    "        with open(filename, \"r\") as fp:\n",
    "            vec_dict = json.load(fp)\n",
    "\n",
    "        vec_dict[\"word_vocab\"] = Vocabulary.deserialize_from_contents(vec_dict[\"word_vocab\"])\n",
    "        return cls(**vec_dict)\n",
    "\n",
    "    @classmethod\n",
    "    def induce_from_text(cls, tweets):\n",
    "        \"\"\"\n",
    "        \"\"\"\n",
    "        vocab = Vocabulary(use_unks=True,\n",
    "                           use_start_end=True,\n",
    "                           start_token=constants.WORD_START_TOKEN,\n",
    "                           end_token=constants.WORD_END_TOKEN)\n",
    "        max_seq_length = 0\n",
    "        for tweet in tweets:\n",
    "            vocab.add_many(tweet)\n",
    "            if len(tweet) > max_seq_length:\n",
    "                max_seq_length = len(tweet)\n",
    "        max_seq_length = max_seq_length + 2\n",
    "        return cls(vocab, max_seq_length)\n",
    "\n",
    "    def convert_dataset(self, tweets):\n",
    "\n",
    "        num_data = len(tweets)\n",
    "        \n",
    "        x_sequences = np.zeros((num_data, self.max_seq_length), dtype=np.int64)\n",
    "        y_targets = np.zeros((num_data, self.max_seq_length), dtype=np.int64)\n",
    "\n",
    "        for index, tweet in enumerate(tweets):\n",
    "            converted = list(self.word_vocab.map(tweet, include_start_end=True))\n",
    "            x_version = converted[:-1]\n",
    "            y_version = converted[1:]\n",
    "            \n",
    "            x_sequences[index, :len(x_version)] = x_version\n",
    "            y_targets[index, :len(y_version)] = y_version\n",
    "            \n",
    "\n",
    "        return VectorizedSingleIODataset(x_sequences, y_targets)\n",
    "\n",
    "class VectorizedSingleIODataset(Dataset):\n",
    "    def __init__(self, x_input, y_target):\n",
    "        self.x_input = x_input\n",
    "        self.y_target = y_target\n",
    "\n",
    "    def __len__(self):\n",
    "        return len(self.x_input)\n",
    "\n",
    "    def __getitem__(self, index):\n",
    "        return {'x_input': self.x_input[index],\n",
    "                'y_target': self.y_target[index],\n",
    "                'x_lengths': len(self.x_input[index].nonzero()[0])}\n",
    "    \n",
    "class DataServer(object):\n",
    "    def __init__(self, vectorized_data):\n",
    "        self.vectorized_data = vectorized_data\n",
    "        self.gpu_mode = False\n",
    "        self.volatile_mode = False\n",
    "    \n",
    "    def serve_batches(self, batch_size, num_batches=-1, num_workers=0):\n",
    "        datagen = DataLoader(self.vectorized_data, batch_size=batch_size, \n",
    "                             shuffle=True, num_workers=num_workers)\n",
    "        for batch_index, batch in enumerate(datagen):\n",
    "            out = {}\n",
    "            for key, val in batch.items():\n",
    "                if not isinstance(val, Variable):\n",
    "                    val = Variable(val)\n",
    "                if self.gpu_mode:\n",
    "                    val = val.cuda()\n",
    "                if self.volatile_mode:\n",
    "                    val = val.volatile() \n",
    "                out[key] = val\n",
    "                \n",
    "            yield out\n",
    "            if num_batches > 0 and batch_index > num_batches:\n",
    "                break\n",
    "                \n",
    "    def enable_gpu_mode(self):\n",
    "        self.gpu_mode = True\n",
    "        \n",
    "    def disable_gpu_mode(self):\n",
    "        self.gpu_mode = False"
   ]
  },
  {
   "cell_type": "markdown",
   "metadata": {},
   "source": [
    "## Build Model"
   ]
  },
  {
   "cell_type": "code",
   "execution_count": 325,
   "metadata": {
    "code_folding": [],
    "collapsed": true
   },
   "outputs": [],
   "source": [
    "class TweetLanguageModel(nn.Module):\n",
    "    def __init__(self, embedding_dim, hidden_dim, input_vocab_size, num_rnn_layers=1):\n",
    "        super(TweetLanguageModel, self).__init__()\n",
    "        \n",
    "        self.emb = nn.Embedding(input_vocab_size, embedding_dim, padding_idx=0)\n",
    "        self.rnn = nn.GRU(embedding_dim, hidden_dim, batch_first=True, num_layers=num_rnn_layers)\n",
    "        self.affine = nn.Linear(hidden_dim, input_vocab_size)\n",
    "        \n",
    "        \n",
    "        self._cached_config = dict(embedding_dim=embedding_dim, \n",
    "                                   hidden_dim=hidden_dim,\n",
    "                                   input_vocab_size=input_vocab_size,\n",
    "                                   num_rnn_layers=num_rnn_layers)\n",
    "        \n",
    "    def hidden_from_x(self, x, zero_out=True):\n",
    "        hidden = x.data.new(self.rnn.num_layers, \n",
    "                                     x.size(0), \n",
    "                                     self.rnn.hidden_size)\n",
    "        if zero_out:\n",
    "            hidden = hidden.zero_()\n",
    "        else:\n",
    "            stdv = 1. / math.sqrt(self.hidden.size(2))\n",
    "            hidden.data.uniform_(-stdv, stdv)\n",
    "        \n",
    "        return Variable(hidden)\n",
    "    \n",
    "    def forward(self, x_in, apply_softmax=False, hidden=None, return_with_hidden=False):\n",
    "        x_embedded = self.emb(x_in)\n",
    "\n",
    "        if hidden is None:\n",
    "            hidden = self.hidden_from_x(x_embedded, True)\n",
    "            \n",
    "        x_post_rnn, hidden = self.rnn(x_embedded, hidden)\n",
    "        x_post_rnn = x_post_rnn.contiguous()\n",
    "        x_reshaped = x_post_rnn.view(-1, x_post_rnn.size(2))\n",
    "        \n",
    "        x_out = self.affine(x_reshaped)\n",
    "        \n",
    "        if apply_softmax:\n",
    "            x_out = F.softmax(x_out)\n",
    "        \n",
    "        if return_with_hidden:\n",
    "            return x_out, hidden\n",
    "        else:\n",
    "            return x_out\n",
    "    \n",
    "    def save(self, json_filename, model_state_filename):\n",
    "        torch.save(self.state_dict(), model_state_filename)\n",
    "        with open(json_filename, \"w\") as fp:\n",
    "            json.dump(self._cached_config, fp)\n",
    "    \n",
    "    @classmethod\n",
    "    def load(cls, json_filename, model_state_filename):\n",
    "        with open(json_filename, \"r\") as fp:\n",
    "            config = json.load(fp)\n",
    "        out = cls(**config)\n",
    "        state_dict = torch.load(model_state_filename)\n",
    "        out.load_state_dict(state_dict)\n",
    "        return out"
   ]
  },
  {
   "cell_type": "code",
   "execution_count": 195,
   "metadata": {
    "collapsed": true
   },
   "outputs": [],
   "source": [
    "def accuracy(yhat, ytrue):\n",
    "        pred = yhat.max(1)[1].type_as(ytrue)\n",
    "        correct = pred.eq(ytrue)\n",
    "        if not hasattr(correct, 'mean'):\n",
    "            correct = correct.cpu()\n",
    "        return correct.float().mean()"
   ]
  },
  {
   "cell_type": "code",
   "execution_count": 365,
   "metadata": {},
   "outputs": [],
   "source": [
    "def variable_from_tokens(vectorizer, tokens):\n",
    "    out = np.array(list(vectorizer.word_vocab.map(tokens)))\n",
    "    return Variable(torch.LongTensor(out)).view(1,-1)\n",
    "\n",
    "def greedy_sample_from(model, vectorizer, temperature=1.0, seed_text=None, use_cuda=True, hx=None, n_length=10, burn=0):\n",
    "    if seed_text is None:\n",
    "        seed_text = [vectorizer.word_vocab.start_token]\n",
    "    in_var = variable_from_tokens(vectorizer, seed_text)\n",
    "    if use_cuda:\n",
    "        in_var = in_var.cuda()\n",
    "    for _ in range(n_length):\n",
    "        if in_var.data.min() < 0:\n",
    "            continue\n",
    "        y_pred, hx = model(in_var, apply_softmax=False, hidden=hx, return_with_hidden=True)\n",
    "        y_pred = torch.nn.functional.softmax(y_pred/temperature)\n",
    "        in_var = torch.multinomial(y_pred)\n",
    "        seed_text.append(vectorizer.word_vocab.lookup(in_var.data.cpu().numpy().ravel()[0]))\n",
    "        if seed_text[-1] == constants.WORD_END_TOKEN:\n",
    "            break\n",
    "    return seed_text"
   ]
  },
  {
   "cell_type": "code",
   "execution_count": 335,
   "metadata": {
    "code_folding": [],
    "collapsed": true
   },
   "outputs": [],
   "source": [
    "class CrossEntTrainer(object):\n",
    "    def __init__(self, model, optimizer_class, gpu_mode=False, learning_rate=0.001):\n",
    "        self.model = model\n",
    "        if isinstance(optimizer_class, six.string_types):\n",
    "            if not hasattr(torch.optim, optimizer_class):\n",
    "                raise Exception(\"{} is not a valid optimizer\".format(optimizer_class))\n",
    "            optimizer_class = getattr(torch.optim, optimizer_class)\n",
    "        self.optimizer = optimizer_class(model.parameters(), lr=learning_rate, weight_decay=1e-7)\n",
    "        self.loss = nn.CrossEntropyLoss()\n",
    "        self.gpu_mode = gpu_mode\n",
    "        self.loss_history = []\n",
    "        self.accuracy_history = []\n",
    "    \n",
    "    def _reset_gradient(self):\n",
    "        self.optimizer.zero_grad()\n",
    "        self.model.zero_grad()\n",
    "        \n",
    "    def train(self, data_server, batch_size=64, num_batches=-1, num_epochs=1):\n",
    "        \n",
    "        if self.gpu_mode:\n",
    "            self.model.cuda()\n",
    "            data_server.enable_gpu_mode()\n",
    "        else:\n",
    "            self.model.cpu()\n",
    "            data_server.disable_gpu_mode()\n",
    "            \n",
    "        epoch_bar = tqdm_notebook(total=num_epochs, unit=\" epochs\", position=0)\n",
    "        batch_bar = tqdm_notebook(unit=\" batches\", position=1)\n",
    "        \n",
    "        for _ in range(num_epochs):\n",
    "            for batch in data_server.serve_batches(batch_size, num_batches):\n",
    "                \n",
    "                self._reset_gradient()\n",
    "                yhat = self.model(batch['x_input'])\n",
    "                \n",
    "                # best to reshape y_target to match the yhat\n",
    "                yhat = yhat.view(-1, yhat.size(1))\n",
    "                y_target = batch['y_target'].view(-1)\n",
    "                computed_loss = self.loss(yhat, y_target)\n",
    "                computed_loss.backward()\n",
    "                self.optimizer.step()\n",
    "\n",
    "                computed_loss_ = float(computed_loss.data.cpu().numpy()[0])\n",
    "                computed_accuracy = accuracy(yhat, y_target).data.cpu().numpy()[0]\n",
    "                \n",
    "                batch_bar.set_postfix(loss=computed_loss_, accuracy=computed_accuracy)\n",
    "                self.loss_history.append(computed_loss_)\n",
    "                self.accuracy_history.append(computed_accuracy)\n",
    "                batch_bar.update(1)\n",
    "                \n",
    "            sampled_text = greedy_sample_from(model, vectorizer, use_cuda=self.gpu_mode, n_length=10)\n",
    "            epoch_bar.set_postfix(sample=sampled_text)\n",
    "            epoch_bar.update(1)\n",
    "\n",
    "        batch_bar.clear()"
   ]
  },
  {
   "cell_type": "code",
   "execution_count": 374,
   "metadata": {},
   "outputs": [
    {
     "data": {
      "text/plain": [
       "'wendy realdonaldtrump bradcooney1wise the mr trump the art of the deal is doing is why _'"
      ]
     },
     "execution_count": 374,
     "metadata": {},
     "output_type": "execute_result"
    }
   ],
   "source": [
    "\" \".join(greedy_sample_from(model, vectorizer, temperature=0.9, n_length=30)[1:])"
   ]
  },
  {
   "cell_type": "code",
   "execution_count": null,
   "metadata": {
    "collapsed": true
   },
   "outputs": [],
   "source": [
    "text_dataset = TrumpTweetDataset(constants.TRUMP_TWEET_CSV)\n",
    "tweet_sequences = text_dataset.get_data()\n",
    "\n",
    "n_train = int(constants.TRAIN_PROPORTION * len(tweet_sequences))\n",
    "train_tweets = tweet_sequences[:n_train]\n",
    "eval_tweets = tweet_sequences[n_train:]"
   ]
  },
  {
   "cell_type": "code",
   "execution_count": 327,
   "metadata": {},
   "outputs": [
    {
     "name": "stdout",
     "output_type": "stream",
     "text": [
      "Sucessfully Loaded!\n"
     ]
    }
   ],
   "source": [
    "model_parameters = dict(embedding_dim=64, \n",
    "                        hidden_dim=256,\n",
    "                        num_rnn_layers=1)\n",
    "\n",
    "vectorizer_name = \"trump_twitter_{hidden_dim}h_{embedding_dim}e.vectorizer\".format(**model_parameters)\n",
    "model_json_name = \"trump_twitter_{hidden_dim}h_{embedding_dim}e.json\".format(**model_parameters)\n",
    "model_state_name = \"trump_twitter_{hidden_dim}h_{embedding_dim}e.state\".format(**model_parameters)\n",
    "\n",
    "import os\n",
    "if os.path.exists(vectorizer_name):\n",
    "    vectorizer = TrumpTweetVectorizer.load(vectorizer_name)\n",
    "    model = TweetLanguageModel.load(json_filename=model_json_name, model_state_filename=model_state_name)\n",
    "    print(\"Sucessfully Loaded!\")\n",
    "else:\n",
    "    vectorizer = TrumpTweetVectorizer.induce_from_text(tweet_sequences)\n",
    "    model = TweetLanguageModel(input_vocab_size=len(vectorizer.word_vocab), **model_parameters)\n",
    "    print(\"Successfully Created!\")"
   ]
  },
  {
   "cell_type": "code",
   "execution_count": 328,
   "metadata": {
    "collapsed": true
   },
   "outputs": [],
   "source": [
    "vectorized_train_data = vectorizer.convert_dataset(train_tweets)\n",
    "vectorized_eval_data = vectorizer.convert_dataset(eval_tweets)\n",
    "\n",
    "train_server = DataServer(vectorized_train_data)\n",
    "eval_server = DataServer(vectorized_eval_data)"
   ]
  },
  {
   "cell_type": "code",
   "execution_count": 329,
   "metadata": {
    "collapsed": true
   },
   "outputs": [],
   "source": [
    "trainer = CrossEntTrainer(model, \"Adam\", True, learning_rate=0.001)"
   ]
  },
  {
   "cell_type": "code",
   "execution_count": 330,
   "metadata": {},
   "outputs": [
    {
     "data": {
      "application/vnd.jupyter.widget-view+json": {
       "model_id": "af6b9bff5c0245398e14982eb3934a2e"
      }
     },
     "metadata": {},
     "output_type": "display_data"
    },
    {
     "data": {
      "application/vnd.jupyter.widget-view+json": {
       "model_id": "27b439ad0fb8417485a060c77037de0a"
      }
     },
     "metadata": {},
     "output_type": "display_data"
    },
    {
     "name": "stdout",
     "output_type": "stream",
     "text": [
      "\n"
     ]
    }
   ],
   "source": [
    "try:\n",
    "    trainer.train(train_server, num_epochs=3)\n",
    "except KeyboardInterrupt:\n",
    "    pass"
   ]
  },
  {
   "cell_type": "code",
   "execution_count": 331,
   "metadata": {
    "collapsed": true
   },
   "outputs": [],
   "source": [
    "vectorizer.save(vectorizer_name)\n",
    "model.save(json_filename=model_json_name, model_state_filename=model_state_name)"
   ]
  },
  {
   "cell_type": "code",
   "execution_count": 332,
   "metadata": {},
   "outputs": [
    {
     "data": {
      "text/plain": [
       "<matplotlib.legend.Legend at 0x7ff99864e828>"
      ]
     },
     "execution_count": 332,
     "metadata": {},
     "output_type": "execute_result"
    },
    {
     "data": {
      "image/png": "[encoded data removed]",
      "text/plain": [
       "<matplotlib.figure.Figure at 0x7ff9a066c668>"
      ]
     },
     "metadata": {},
     "output_type": "display_data"
    }
   ],
   "source": [
    "sns.set_context(\"poster\")\n",
    "sns.set_style(\"dark\", {'axes.facecolor':'0.94'})\n",
    "\n",
    "average_step = 5\n",
    "\n",
    "_, ax = plt.subplots(1, 1, figsize=(20,5))\n",
    "\n",
    "loss_history = trainer.loss_history[:len(trainer.loss_history)//average_step*average_step]\n",
    "acc_history = trainer.accuracy_history[:len(trainer.accuracy_history)//average_step*average_step]\n",
    "\n",
    "loss_history = np.array(loss_history).reshape(-1, average_step).mean(axis=-1)\n",
    "acc_history = np.array(acc_history).reshape(-1, average_step).mean(axis=-1)\n",
    "\n",
    "\n",
    "loss_artist = ax.scatter(np.arange(len(loss_history)), \n",
    "                         loss_history, color='#942174', \n",
    "                         s=10+average_step//2, label=\"Loss\");\n",
    "\n",
    "ax2 = ax.twinx()\n",
    "acc_artist = ax2.scatter(np.arange(len(acc_history)), \n",
    "                         acc_history, color='#F05732', \n",
    "                         s=10+average_step//2, label=\"Accuracy\");\n",
    "artists = [loss_artist, acc_artist]\n",
    "labels = [artist.get_label() for artist in artists]\n",
    "plt.legend(artists, labels, loc=5)\n"
   ]
  }
 ],
 "metadata": {
  "kernelspec": {
   "display_name": "py3torch",
   "language": "python",
   "name": "py3torch"
  },
  "language_info": {
   "codemirror_mode": {
    "name": "ipython",
    "version": 3
   },
   "file_extension": ".py",
   "mimetype": "text/x-python",
   "name": "python",
   "nbconvert_exporter": "python",
   "pygments_lexer": "ipython3",
   "version": "3.6.1"
  },
  "latex_envs": {
   "LaTeX_envs_menu_present": true,
   "autocomplete": true,
   "bibliofile": "biblio.bib",
   "cite_by": "apalike",
   "current_citInitial": 1,
   "eqLabelWithNumbers": true,
   "eqNumInitial": 1,
   "hotkeys": {
    "equation": "Ctrl-E",
    "itemize": "Ctrl-I"
   },
   "labels_anchors": false,
   "latex_user_defs": false,
   "report_style_numbering": false,
   "user_envs_cfg": false
  },
  "notify_time": "10",
  "varInspector": {
   "cols": {
    "lenName": 16,
    "lenType": 16,
    "lenVar": 40
   },
   "kernels_config": {
    "python": {
     "delete_cmd_postfix": "",
     "delete_cmd_prefix": "del ",
     "library": "var_list.py",
     "varRefreshCmd": "print(var_dic_list())"
    },
    "r": {
     "delete_cmd_postfix": ") ",
     "delete_cmd_prefix": "rm(",
     "library": "var_list.r",
     "varRefreshCmd": "cat(var_dic_list()) "
    }
   },
   "types_to_exclude": [
    "module",
    "function",
    "builtin_function_or_method",
    "instance",
    "_Feature"
   ],
   "window_display": false
  }
 },
 "nbformat": 4,
 "nbformat_minor": 2
}
